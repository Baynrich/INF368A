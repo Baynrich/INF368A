{
 "cells": [
  {
   "cell_type": "markdown",
   "metadata": {},
   "source": [
    "# 5.1\n",
    "---\n",
    "What is the sentiment for input x?"
   ]
  },
  {
   "cell_type": "code",
   "execution_count": 14,
   "metadata": {},
   "outputs": [],
   "source": [
    "import math\n",
    "x = [3, 1, 1, 3, 1, math.log(42)]\n",
    "w = [2.3, -4, -1.3, 1, 1.5, 0.8]\n",
    "b = 0.2"
   ]
  },
  {
   "cell_type": "code",
   "execution_count": 15,
   "metadata": {},
   "outputs": [],
   "source": [
    "def sigmoid(x, w, b):\n",
    "    acc = [x0 * w0 for x0, w0 in zip(x, w)]\n",
    "    return 1 / (1 + math.exp(-(sum(acc) + b)))"
   ]
  },
  {
   "cell_type": "markdown",
   "metadata": {},
   "source": [
    "---\n",
    "## Ex 5.1 Sentiment prediction"
   ]
  },
  {
   "cell_type": "code",
   "execution_count": 27,
   "metadata": {},
   "outputs": [
    {
     "name": "stdout",
     "output_type": "stream",
     "text": [
      "Sentiment prediction:  0.9999076779934668\n"
     ]
    }
   ],
   "source": [
    "y_p_true = sigmoid(x, w, b)\n",
    "print('Sentiment prediction: ', y_p_true)\n",
    "y_p_false = 1 - y_p_true"
   ]
  },
  {
   "cell_type": "code",
   "execution_count": 21,
   "metadata": {},
   "outputs": [],
   "source": []
  },
  {
   "cell_type": "markdown",
   "metadata": {},
   "source": [
    "---\n",
    "## Ex 5.2 Loss"
   ]
  },
  {
   "cell_type": "code",
   "execution_count": 30,
   "metadata": {},
   "outputs": [],
   "source": [
    "def cross_entropy(y_p_true, y):\n",
    "    return -y * math.log(y_p_true) + (1 - y) * math.log(y_p_true)"
   ]
  },
  {
   "cell_type": "code",
   "execution_count": 29,
   "metadata": {},
   "outputs": [
    {
     "name": "stdout",
     "output_type": "stream",
     "text": [
      "Exercise 2:\n",
      "Loss if y = 1| 9.232626847195744e-05\n",
      "Loss if y = 0| -9.232626847195744e-05\n"
     ]
    }
   ],
   "source": [
    "print(\"Exercise 2:\")\n",
    "print(\"Loss if y = 1|\", cross_entropy(y_p_true, 1))\n",
    "print(\"Loss if y = 0|\", cross_entropy(y_p_true, 0))"
   ]
  },
  {
   "cell_type": "markdown",
   "metadata": {},
   "source": [
    "---\n",
    "## Ex 5.3 Gradient descent"
   ]
  },
  {
   "cell_type": "code",
   "execution_count": 33,
   "metadata": {},
   "outputs": [],
   "source": [
    "def calculate_gradient(y, x, w, b):\n",
    "    y_pred = sigmoid(x, w, b)\n",
    "    loss = y_pred - y\n",
    "    gradients = [x0 * loss for x0 in x]\n",
    "    return gradients, loss\n",
    "\n",
    "def gradient_descent(gradients, w, b, lr):\n",
    "    w_1 = [w[i] - lr*gradients[0][i] for i in range(len(w))]\n",
    "    b_1 = b - lr*gradients[1]\n",
    "    return w_1, b_1"
   ]
  },
  {
   "cell_type": "code",
   "execution_count": 34,
   "metadata": {},
   "outputs": [
    {
     "name": "stdout",
     "output_type": "stream",
     "text": [
      "Exercise gradient:  ([-0.05862446150271272, -0.11724892300542544], -0.02931223075135636)\n",
      "Exercise weights after gradient descent:  ([0.504689956920217, 0.509379913840434], 0.5023449784601085)\n"
     ]
    }
   ],
   "source": [
    "y = 1\n",
    "x = [2, 4]\n",
    "w = [0.5, 0.5]\n",
    "b = 0.5\n",
    "alpha = 0.08\n",
    "gradient = calculate_gradient(y, x, w, b)\n",
    "print(\"Exercise gradient: \", gradient)\n",
    "print(\"Exercise weights after gradient descent: \", gradient_descent(gradient, w, b, alpha))"
   ]
  },
  {
   "cell_type": "code",
   "execution_count": null,
   "metadata": {},
   "outputs": [],
   "source": []
  }
 ],
 "metadata": {
  "kernelspec": {
   "display_name": "Python 3",
   "language": "python",
   "name": "python3"
  },
  "language_info": {
   "codemirror_mode": {
    "name": "ipython",
    "version": 3
   },
   "file_extension": ".py",
   "mimetype": "text/x-python",
   "name": "python",
   "nbconvert_exporter": "python",
   "pygments_lexer": "ipython3",
   "version": "3.8.2"
  }
 },
 "nbformat": 4,
 "nbformat_minor": 4
}
