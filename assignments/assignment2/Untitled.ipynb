{
 "cells": [
  {
   "cell_type": "markdown",
   "metadata": {},
   "source": [
    "# Assignment 2\n",
    "\n",
    "## 1.1 Sentiment Analysis (1.5 points)\n",
    "\n",
    "• Given the following short movie reviews and a document D = fast, couple, shoot,\n",
    "fly. Write a python implementation (from scratch!) that compute the most likely\n",
    "class for D. Assume a naive Bayes classifier and use add-1 smoothing for the likelihoods. Each review is labeled with a genre, either comedy or action:\n",
    "1. fun, couple, love, love <b>comedy</b>\n",
    "2. fast, furious, shoot <b>action</b>\n",
    "3. couple, fly, fast, fun, fun <b>comedy</b>\n",
    "4. furious, shoot, shoot, fun <b>action</b>\n",
    "5. fly, fast, shoot, love <b>action</b>"
   ]
  },
  {
   "cell_type": "code",
   "execution_count": 25,
   "metadata": {},
   "outputs": [],
   "source": [
    "# Add our training/test data\n",
    "training_set = [\n",
    "    (['fun', 'couple', 'love', 'love'], 'comedy'),\n",
    "    (['fast', 'furious', 'shoot'], 'action'),\n",
    "    (['couple', 'fly', 'fast', 'fun'], 'comedy'),\n",
    "    (['furious', 'shoot', 'shoot', 'fun'], 'action'),\n",
    "    (['fly', 'fast', 'shoot', 'love'], 'action')\n",
    "]\n",
    "test_statement = ['fast', 'couple', 'shoot', 'fly']"
   ]
  },
  {
   "cell_type": "code",
   "execution_count": 51,
   "metadata": {},
   "outputs": [
    {
     "name": "stdout",
     "output_type": "stream",
     "text": [
      "{('couple', 'comedy'): 2, ('love', 'comedy'): 1, ('fun', 'comedy'): 2, ('shoot', 'action'): 3, ('furious', 'action'): 2, ('fast', 'action'): 2, ('fast', 'comedy'): 1, ('fly', 'comedy'): 1, ('fun', 'action'): 1, ('love', 'action'): 1, ('fly', 'action'): 1}\n",
      "{'comedy': 2, 'action': 3}\n"
     ]
    }
   ],
   "source": [
    "#Initialise some helper variables\n",
    "dataset = set()\n",
    "likelihood_map_data = {}\n",
    "likelihood_map_labels = {}\n",
    "\n",
    "for x0 in [x for x, y in training_set]:\n",
    "    dataset.update(x0)\n",
    "\n",
    "for x, y in training_set:\n",
    "    if y in likelihood_map_labels:\n",
    "        likelihood_map_labels[y] += 1\n",
    "    else:\n",
    "        likelihood_map_labels[y] = 1\n",
    "    for word in set(x):\n",
    "        if(word, y) in likelihood_map_data:\n",
    "            likelihood_map_data[(word, y)] += 1\n",
    "        else:\n",
    "            likelihood_map_data[(word, y)] = 1\n",
    "\n",
    "print(likelihood_map_data)\n",
    "print(likelihood_map_labels)"
   ]
  },
  {
   "cell_type": "code",
   "execution_count": 59,
   "metadata": {},
   "outputs": [
    {
     "name": "stdout",
     "output_type": "stream",
     "text": [
      "{'comedy': 0.0018485712085034274, 'action': 0.00530425814056284}\n"
     ]
    }
   ],
   "source": [
    "results = {}\n",
    "for label in likelihood_map_labels:\n",
    "    quantity = likelihood_map_labels[label]\n",
    "    likelihood = quantity / len(training_set)\n",
    "    for word in test_statement:\n",
    "        if word in dataset:\n",
    "            # Add 1 smoothing\n",
    "            l_w0 = 1\n",
    "            if (word, label) in likelihood_map_data:\n",
    "                l_w0 += likelihood_map_data[(word, label)]\n",
    "            likelihood *= (l_w0 / (likelihood + len(dataset))) \n",
    "        results[label] = likelihood\n",
    "\n",
    "print(results)"
   ]
  },
  {
   "cell_type": "code",
   "execution_count": null,
   "metadata": {},
   "outputs": [],
   "source": []
  },
  {
   "cell_type": "markdown",
   "metadata": {},
   "source": [
    "---\n",
    "## 1.2 Logistic Regression (2 points)\n",
    "Create an implementation (from scratch!) of the Stochastic Gradient Descent\n",
    "Algorithm in Figure 5.5 (Page 86) of the reference book “Speech and Language\n",
    "Processing”.\n",
    "\n",
    "• Note: There are some implementations online. You can use them as a reference\n",
    "but you should try to modify the implementation and show in your report that you\n",
    "understand every step. Also, if you use an implementation online as a reference\n",
    "include in your report which reference you used. Include in your report an example\n",
    "run in the style of the Example in Section 5.4.3 (Page 87) of the reference book."
   ]
  },
  {
   "cell_type": "code",
   "execution_count": 76,
   "metadata": {},
   "outputs": [],
   "source": [
    "import math"
   ]
  },
  {
   "cell_type": "code",
   "execution_count": 103,
   "metadata": {},
   "outputs": [],
   "source": [
    "def cross_entropy_loss(y, y_pred):\n",
    "    return -y*math.log(y_pred) + (1 - y) * math.log(1 - y_pred)\n",
    "\n",
    "def predict(x, w, b):\n",
    "    vector_sum = -(sum([x0 * w0 for x0, w0 in zip(x, w) ]) + b)\n",
    "    return 1 / (1 + math.exp(vector_sum))\n",
    "\n",
    "def calculate_gradient(y, x, w, b, loss_func=cross_entropy_loss):\n",
    "    y_pred = predict(x, w, b)\n",
    "    loss = y_pred - y #loss_func(y, y_pred)\n",
    "    gradients = [x0 * loss for x0 in x]\n",
    "    return gradients, loss\n",
    "\n",
    "def fit(data, labels, w, b, lr):\n",
    "    for x, y in zip(data, labels):\n",
    "        gradients, loss = calculate_gradient(y, x, w, b)\n",
    "        w = [w0 - lr * g0 for w0, g0 in zip(w, gradients)]\n",
    "        b = b - lr * loss\n",
    "        return w, b"
   ]
  },
  {
   "cell_type": "code",
   "execution_count": 107,
   "metadata": {},
   "outputs": [
    {
     "name": "stdout",
     "output_type": "stream",
     "text": [
      "Weights:  [0.15000000000000002, 0.1]  | Bias:  0.05\n",
      "Prediction:  0.6681877721681662 \n",
      "\n",
      "Weights:  [0.4200200220704615, 0.2800133480469743]  | Bias:  0.14000667402348715\n",
      "Prediction:  0.8765430640328327 \n",
      "\n",
      "Weights:  [0.5635566340104131, 0.3757044226736087]  | Bias:  0.18785221133680435\n",
      "Prediction:  0.9327632195485975 \n",
      "\n",
      "Weights:  [0.6497599592191122, 0.43317330614607474]  | Bias:  0.21658665307303737\n",
      "Prediction:  0.9540083753283093 \n",
      "\n",
      "Weights:  [0.7113661732077745, 0.4742441154718495]  | Bias:  0.23712205773592476\n",
      "Prediction:  0.9650987845514595 \n",
      "\n",
      "Weights:  [0.7592886737489453, 0.5061924491659634]  | Bias:  0.2530962245829817\n",
      "Prediction:  0.9718962801402085 \n",
      "\n",
      "Weights:  [0.798495904471755, 0.53233060298117]  | Bias:  0.266165301490585\n",
      "Prediction:  0.9764848472341696 \n",
      "\n",
      "Weights:  [0.8316666030364817, 0.5544444020243212]  | Bias:  0.2772222010121606\n",
      "Prediction:  0.9797890115340987 \n",
      "\n",
      "Weights:  [0.8604094418935275, 0.5736062945956851]  | Bias:  0.28680314729784256\n",
      "Prediction:  0.9822810723040643 \n",
      "\n",
      "Weights:  [0.8857659443824148, 0.5905106295882766]  | Bias:  0.2952553147941383\n",
      "Prediction:  0.9842272710988804 \n",
      "\n",
      "Weights:  [0.9084490063928837, 0.6056326709285892]  | Bias:  0.3028163354642946\n",
      "Prediction:  0.98578903745105 \n",
      "\n"
     ]
    }
   ],
   "source": [
    "weights = [0, 0]\n",
    "bias = 0\n",
    "learning_rate = 0.1\n",
    "x = [3, 2]\n",
    "y = 1\n",
    "\n",
    "for i in range(50):\n",
    "    weights, bias = fit([x], [y], weights, bias, learning_rate)\n",
    "    if i == 0 or i % 5 == 4:\n",
    "        print('Weights: ', weights, ' | Bias: ', bias)\n",
    "        print('Prediction: ', predict(x, weights, bias), '\\n')"
   ]
  },
  {
   "cell_type": "code",
   "execution_count": null,
   "metadata": {},
   "outputs": [],
   "source": []
  },
  {
   "cell_type": "code",
   "execution_count": null,
   "metadata": {},
   "outputs": [],
   "source": []
  },
  {
   "cell_type": "code",
   "execution_count": null,
   "metadata": {},
   "outputs": [],
   "source": []
  }
 ],
 "metadata": {
  "kernelspec": {
   "display_name": "Python 3",
   "language": "python",
   "name": "python3"
  },
  "language_info": {
   "codemirror_mode": {
    "name": "ipython",
    "version": 3
   },
   "file_extension": ".py",
   "mimetype": "text/x-python",
   "name": "python",
   "nbconvert_exporter": "python",
   "pygments_lexer": "ipython3",
   "version": "3.8.2"
  }
 },
 "nbformat": 4,
 "nbformat_minor": 4
}
