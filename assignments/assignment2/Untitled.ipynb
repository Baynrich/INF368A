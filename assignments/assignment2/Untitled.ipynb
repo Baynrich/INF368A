{
 "cells": [
  {
   "cell_type": "markdown",
   "metadata": {},
   "source": [
    "# Assignment 2\n",
    "\n",
    "## 1.1 Sentiment Analysis (1.5 points)\n",
    "\n",
    "• Given the following short movie reviews and a document D = fast, couple, shoot,\n",
    "fly. Write a python implementation (from scratch!) that compute the most likely\n",
    "class for D. Assume a naive Bayes classifier and use add-1 smoothing for the likelihoods. Each review is labeled with a genre, either comedy or action:\n",
    "1. fun, couple, love, love <b>comedy</b>\n",
    "2. fast, furious, shoot <b>action</b>\n",
    "3. couple, fly, fast, fun, fun <b>comedy</b>\n",
    "4. furious, shoot, shoot, fun <b>action</b>\n",
    "5. fly, fast, shoot, love <b>action</b>"
   ]
  },
  {
   "cell_type": "code",
   "execution_count": null,
   "metadata": {},
   "outputs": [],
   "source": []
  }
 ],
 "metadata": {
  "kernelspec": {
   "display_name": "Python 3",
   "language": "python",
   "name": "python3"
  },
  "language_info": {
   "codemirror_mode": {
    "name": "ipython",
    "version": 3
   },
   "file_extension": ".py",
   "mimetype": "text/x-python",
   "name": "python",
   "nbconvert_exporter": "python",
   "pygments_lexer": "ipython3",
   "version": "3.8.2"
  }
 },
 "nbformat": 4,
 "nbformat_minor": 4
}
