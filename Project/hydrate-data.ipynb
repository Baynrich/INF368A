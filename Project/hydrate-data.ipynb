{
 "cells": [
  {
   "cell_type": "code",
   "execution_count": null,
   "metadata": {
    "pycharm": {
     "is_executing": false
    }
   },
   "outputs": [],
   "source": []
  },
  {
   "cell_type": "code",
   "execution_count": 3,
   "metadata": {
    "pycharm": {
     "is_executing": false,
     "name": "#%%\n"
    }
   },
   "outputs": [],
   "source": [
    "import gzip\n",
    "import shutil\n",
    "import os\n",
    "import csv\n",
    "import linecache\n",
    "from shutil import copyfile\n",
    "import ipywidgets as widgets\n",
    "import numpy as np\n",
    "import pandas as pd"
   ]
  },
  {
   "cell_type": "code",
   "execution_count": 6,
   "metadata": {
    "pycharm": {
     "is_executing": false,
     "name": "#%%\n"
    }
   },
   "outputs": [],
   "source": [
    "import json\n",
    "import tweepy\n",
    "from tweepy import OAuthHandler\n",
    "\n",
    "# Authenticate\n",
    "CONSUMER_KEY = \"mPCtC5ZYBGGOT2MwIdbehyRos\" #@param {type:\"string\"}\n",
    "CONSUMER_SECRET_KEY = \"9hYb3JcBKzrkdkslzDIGwjUWCUgejxlmfwj8Yc23PWmAhrwV40\" #@param {type:\"string\"}\n",
    "ACCESS_TOKEN_KEY = \"4372961261-yLwDgkx0olzTcQjHDWhJ2UCl5Z3XM0KX6cj7B6Y\" #@param {type:\"string\"}\n",
    "ACCESS_TOKEN_SECRET_KEY = \"vSXnNxehW5YbCKZhy7nLLfDBOhT9sUx1d23yQovx3j3mi\" #@param {type:\"string\"}\n",
    "\n",
    "#Creates a JSON Files with the API credentials\n",
    "with open('api_keys.json', 'w') as outfile:\n",
    "    json.dump({\n",
    "    \"consumer_key\":CONSUMER_KEY,\n",
    "    \"consumer_secret\":CONSUMER_SECRET_KEY,\n",
    "    \"access_token\":ACCESS_TOKEN_KEY,\n",
    "    \"access_token_secret\": ACCESS_TOKEN_SECRET_KEY\n",
    "     }, outfile)\n"
   ]
  },
  {
   "cell_type": "code",
   "execution_count": 4,
   "metadata": {
    "pycharm": {
     "is_executing": false,
     "name": "#%%"
    }
   },
   "outputs": [
    {
     "name": "stdout",
     "output_type": "stream",
     "text": [
      "--2021-10-29 08:07:30--  https://raw.githubusercontent.com/thepanacealab/SMMT/master/data_acquisition/get_metadata.py\n",
      "Slår opp vertsnavn raw.githubusercontent.com (raw.githubusercontent.com) … 185.199.111.133, 185.199.108.133, 185.199.109.133, ...\n",
      "Kobler til raw.githubusercontent.com (raw.githubusercontent.com)|185.199.111.133|:443 … tilkoblet.\n",
      "HTTP-forespørsel sendt. Venter på svar … 200 OK\n",
      "Lengde: 7205 (7,0K) [text/plain]\n",
      "Lagrer til: «get_metadata.py»\n",
      "\n",
      "get_metadata.py     100%[===================>]   7,04K  --.-KB/s    på 0s      \n",
      "\n",
      "2021-10-29 08:07:30 (32,1 MB/s) - «get_metadata.py» lagret [7205/7205]\n",
      "\n",
      "Traceback (most recent call last):\n",
      "  File \"get_metadata.py\", line 18, in <module>\n",
      "    import tweepy\n",
      "ImportError: No module named tweepy\n"
     ]
    }
   ],
   "source": [
    "import wget\n",
    "!wget https://raw.githubusercontent.com/thepanacealab/SMMT/master/data_acquisition/get_metadata.py -O get_metadata.py\n",
    "\n",
    "!python get_metadata.py -i clean-dataset-filtered.tsv -o hydrated_tweets -k api_keys.json"
   ]
  },
  {
   "cell_type": "code",
   "execution_count": null,
   "metadata": {},
   "outputs": [],
   "source": []
  }
 ],
 "metadata": {
  "kernelspec": {
   "display_name": "Python 3",
   "language": "python",
   "name": "python3"
  },
  "language_info": {
   "codemirror_mode": {
    "name": "ipython",
    "version": 3
   },
   "file_extension": ".py",
   "mimetype": "text/x-python",
   "name": "python",
   "nbconvert_exporter": "python",
   "pygments_lexer": "ipython3",
   "version": "3.8.2"
  },
  "pycharm": {
   "stem_cell": {
    "cell_type": "raw",
    "metadata": {
     "collapsed": false
    },
    "source": []
   }
  }
 },
 "nbformat": 4,
 "nbformat_minor": 1
}
